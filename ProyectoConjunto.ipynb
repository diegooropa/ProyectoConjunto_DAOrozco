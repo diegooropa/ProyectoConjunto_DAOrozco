{
 "cells": [
  {
   "cell_type": "markdown",
   "metadata": {},
   "source": [
    "### Mis expectativas del curso son las siguientes:\n",
    "Tal cual como lo leí en la tarea 1, mis expectativas son similaras a las que venian en dicho texto,\n",
    "- <font color = red> DESARROLLAR PROCESOS DE SIMULACIÓN QUE AYUDEN A GENERAR VALOR </font>\n",
    "- Aprender tecnicas para simular.\n",
    "- Aprender a como desarrollar un proyecto de simulación para estados financieros o de sistemas económicos.\n",
    "- Desarrollar mi destreza para programar.\n",
    "- Detectar las variables más importantes de un sistema a través de un proyecto de simulación.\n",
    "- Resolver problemás con ayuda de calculos $$ \\partial x $$ $$ \\int_{-a}^{b} e^x\\, dx $$\n",
    "\n",
    "\n",
    "\n",
    "\n",
    "\n",
    "\n",
    "\n",
    "\n",
    "\n"
   ]
  },
  {
   "cell_type": "markdown",
   "metadata": {},
   "source": [
    "Write a Python program to convert a list of numeric value into a one-dimensional\n",
    "NumPy array. Expected Output:\n",
    "Original List: [12.23, 13.32, 100, 36.32]\n",
    "One-dimensional numpy array: [ 12.23 13.32 100. 36.32]"
   ]
  },
  {
   "cell_type": "code",
   "execution_count": 34,
   "metadata": {},
   "outputs": [
    {
     "name": "stdout",
     "output_type": "stream",
     "text": [
      "[27.01, 8, 9.0]\n",
      "Respuesta\n",
      " [ 27.01   8.     9.  ]\n"
     ]
    }
   ],
   "source": [
    "import numpy as np\n",
    "a = [27.01, 8, 9.0]\n",
    "m = np.array(a)\n",
    "print(a)\n",
    "print(\"Respuesta\\n\",m)"
   ]
  },
  {
   "cell_type": "markdown",
   "metadata": {},
   "source": [
    "Write a Python program to create a null vector of size 10 and update sixth value to 11."
   ]
  },
  {
   "cell_type": "code",
   "execution_count": 35,
   "metadata": {},
   "outputs": [
    {
     "name": "stdout",
     "output_type": "stream",
     "text": [
      "Respuesta\n",
      " [  0.   0.   0.   0.   0.   0.  11.   0.   0.   0.]\n"
     ]
    }
   ],
   "source": [
    "a = np.zeros(10)\n",
    "a[6] = 11\n",
    "print(\"Respuesta\\n\",a)"
   ]
  },
  {
   "cell_type": "markdown",
   "metadata": {},
   "source": [
    "Write a Python program to create a array with values ranging from 12 to 38."
   ]
  },
  {
   "cell_type": "code",
   "execution_count": 36,
   "metadata": {},
   "outputs": [
    {
     "name": "stdout",
     "output_type": "stream",
     "text": [
      "Respuesta\n",
      " [12 13 14 15 16 17 18 19 20 21 22 23 24 25 26 27 28 29 30 31 32 33 34 35 36\n",
      " 37]\n"
     ]
    }
   ],
   "source": [
    "a = np.arange(12,38)\n",
    "print (\"Respuesta\\n\",a)"
   ]
  },
  {
   "cell_type": "code",
   "execution_count": null,
   "metadata": {
    "collapsed": true
   },
   "outputs": [],
   "source": [
    "Write a Python program to reverse an array (first element becomes last)"
   ]
  },
  {
   "cell_type": "code",
   "execution_count": 37,
   "metadata": {},
   "outputs": [
    {
     "name": "stdout",
     "output_type": "stream",
     "text": [
      "Respuesta\n",
      " [9 8 7 6 5 4 3 2 1 0]\n"
     ]
    }
   ],
   "source": [
    "a = np.arange(0,10)\n",
    "a=a[::-1]\n",
    "print (\"Respuesta\\n\",a)"
   ]
  },
  {
   "cell_type": "markdown",
   "metadata": {},
   "source": [
    "Write a Python program to create a 2d array with 1 on the border and 0 inside.\n"
   ]
  },
  {
   "cell_type": "code",
   "execution_count": 38,
   "metadata": {},
   "outputs": [
    {
     "name": "stdout",
     "output_type": "stream",
     "text": [
      "[[ 1.  1.  1.  1.  1.]\n",
      " [ 1.  1.  1.  1.  1.]\n",
      " [ 1.  1.  1.  1.  1.]\n",
      " [ 1.  1.  1.  1.  1.]\n",
      " [ 1.  1.  1.  1.  1.]] \n",
      "\n",
      "Respuesta\n",
      " [[ 1.  1.  1.  1.  1.]\n",
      " [ 1.  0.  0.  0.  1.]\n",
      " [ 1.  0.  0.  0.  1.]\n",
      " [ 1.  0.  0.  0.  1.]\n",
      " [ 1.  1.  1.  1.  1.]]\n"
     ]
    }
   ],
   "source": [
    "a=np.ones((5,5))\n",
    "print(a,\"\\n\")\n",
    "a[1:-1,1:-1] = 0\n",
    "print(\"Respuesta\\n\",a)"
   ]
  },
  {
   "cell_type": "markdown",
   "metadata": {},
   "source": [
    "Write a Python program to add a border (filled with 0’s) around an existing array"
   ]
  },
  {
   "cell_type": "code",
   "execution_count": 39,
   "metadata": {},
   "outputs": [
    {
     "name": "stdout",
     "output_type": "stream",
     "text": [
      "Respuesta\n",
      " [[ 0.  0.  0.  0.  0.]\n",
      " [ 0.  1.  1.  1.  0.]\n",
      " [ 0.  1.  1.  1.  0.]\n",
      " [ 0.  1.  1.  1.  0.]\n",
      " [ 0.  0.  0.  0.  0.]]\n"
     ]
    }
   ],
   "source": [
    "a = np.ones((3,3))\n",
    "a = np.pad(a, pad_width=1, mode='constant', constant_values=0)\n",
    "print(\"Respuesta\\n\",a)"
   ]
  },
  {
   "cell_type": "markdown",
   "metadata": {},
   "source": [
    "Write a Python program to create a 8x8 matrix and fill it with a checkerboard pattern"
   ]
  },
  {
   "cell_type": "code",
   "execution_count": 40,
   "metadata": {},
   "outputs": [
    {
     "name": "stdout",
     "output_type": "stream",
     "text": [
      "Respuesta\n",
      " [[0 1 0 1 0 1 0 1]\n",
      " [1 0 1 0 1 0 1 0]\n",
      " [0 1 0 1 0 1 0 1]\n",
      " [1 0 1 0 1 0 1 0]\n",
      " [0 1 0 1 0 1 0 1]\n",
      " [1 0 1 0 1 0 1 0]\n",
      " [0 1 0 1 0 1 0 1]\n",
      " [1 0 1 0 1 0 1 0]]\n"
     ]
    }
   ],
   "source": [
    "a = np.ones((3,3))\n",
    "a = np.zeros((8,8),dtype=int)\n",
    "a[1::2,::2] = 1\n",
    "a[::2,1::2] = 1\n"
   ]
  },
  {
   "cell_type": "markdown",
   "metadata": {},
   "source": [
    " Write a Python program to convert the values of Centigrade degrees into Fahrenheit\n",
    "degrees. Centigrade values are stored into a NumPy array.\n",
    "Sample Array [0, 12, 45.21 ,34, 99.91]\n",
    "Expected Output:\n",
    "Values in Fahrenheit degrees: [0.0 12.0 45.21 34.0 99.91]\n",
    "Values in Centigrade degrees: [-17.77777778 -11.11111111 7.33888889 1.11111111 37.72777778].\n",
    "Use functions and list comprehension read the link https: // www. pythonforbeginners.\n",
    "com/ lists/ list-comprehensions-in-python/ , to additional information about of\n",
    "list comprehension in python."
   ]
  },
  {
   "cell_type": "code",
   "execution_count": 41,
   "metadata": {},
   "outputs": [
    {
     "name": "stdout",
     "output_type": "stream",
     "text": [
      "[0, 12, 45.21, 34, 99.91]\n",
      "Respuesta\n",
      " [-17.77777778 -11.11111111   7.33888889   1.11111111  37.72777778]\n"
     ]
    }
   ],
   "source": [
    "f= [0, 12, 45.21, 34, 99.91]\n",
    "print(f)\n",
    "Faren = np.array(f)\n",
    "print(\"Respuesta\\n\",5*Faren/9 - 5*32/9)"
   ]
  },
  {
   "cell_type": "markdown",
   "metadata": {},
   "source": [
    "Write a Python program to find the set difference of two arrays. The set difference will\n",
    "return the sorted, unique values in array1 that are not in array2. Expected Output:\n",
    "Array1: [ 0 10 20 40 60 80]\n",
    "Array2: [10, 30, 40, 50, 70, 90]\n",
    "Set difference between two arrays: [ 0 20 60 80]\n",
    "Hint:explore the use of function np.setdiff1d"
   ]
  },
  {
   "cell_type": "code",
   "execution_count": 42,
   "metadata": {},
   "outputs": [
    {
     "name": "stdout",
     "output_type": "stream",
     "text": [
      "[ 0 10 20 40 60 80]\n",
      "[10, 30, 40, 50, 70]\n",
      "Respuesta\n",
      " [ 0 20 60 80]\n"
     ]
    }
   ],
   "source": [
    "a = np.array([0, 10, 20, 40, 60, 80])\n",
    "print(a)\n",
    "b = [10, 30, 40, 50, 70]\n",
    "print(b)\n",
    "print(\"Respuesta\\n\",np.setdiff1d(a, b))"
   ]
  },
  {
   "cell_type": "markdown",
   "metadata": {},
   "source": [
    "Write a Python program to create a 2-D array whose diagonal equals [4, 5, 6, 8] and 0’s\n",
    "elsewhere.\n"
   ]
  },
  {
   "cell_type": "code",
   "execution_count": 43,
   "metadata": {},
   "outputs": [
    {
     "name": "stdout",
     "output_type": "stream",
     "text": [
      "Respuesta\n",
      " [[4 0 0 0]\n",
      " [0 5 0 0]\n",
      " [0 0 6 0]\n",
      " [0 0 0 8]]\n"
     ]
    }
   ],
   "source": [
    "a =  np.diagflat([4, 5, 6, 8])\n",
    "print(\"Respuesta\\n\",a)"
   ]
  },
  {
   "cell_type": "code",
   "execution_count": null,
   "metadata": {
    "collapsed": true
   },
   "outputs": [],
   "source": []
  }
 ],
 "metadata": {
  "kernelspec": {
   "display_name": "Python 3",
   "language": "python",
   "name": "python3"
  },
  "language_info": {
   "codemirror_mode": {
    "name": "ipython",
    "version": 3
   },
   "file_extension": ".py",
   "mimetype": "text/x-python",
   "name": "python",
   "nbconvert_exporter": "python",
   "pygments_lexer": "ipython3",
   "version": "3.6.1"
  }
 },
 "nbformat": 4,
 "nbformat_minor": 2
}
